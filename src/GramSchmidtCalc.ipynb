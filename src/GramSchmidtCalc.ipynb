{
 "cells": [
  {
   "cell_type": "markdown",
   "metadata": {},
   "source": [
    "# Regular Gram Schmidt Calculator\n"
   ]
  },
  {
   "cell_type": "code",
   "execution_count": null,
   "metadata": {},
   "outputs": [],
   "source": [
    "import logic.utility as utility\n",
    "import logic.regular_gram_schmidt as RGSC\n",
    "\n",
    "vectors = utility.get_matrix_from_user(5)\n",
    "calc = RGSC.RegularGramSchmidt()\n",
    "result_matrix = calc.calc(vectors)\n",
    "print(result_matrix)\n",
    "utility.print_if_matrix_is_basis(result_matrix)"
   ]
  },
  {
   "cell_type": "markdown",
   "metadata": {},
   "source": [
    "# Custom Inner Product Gram Schmidt Calculator"
   ]
  },
  {
   "cell_type": "code",
   "execution_count": 3,
   "metadata": {
    "pycharm": {
     "name": "#%%\n"
    }
   },
   "outputs": [
    {
     "name": "stdout",
     "output_type": "stream",
     "text": [
      "Enter the inner product matrix 3x3\n",
      "Enter the vectors, each value separated by space and each vector separated by enter. Enter 'q' on new line to end the input\n",
      "Enter vectors from R(3)\n",
      "Enter the vectors, each value separated by space and each vector separated by enter. Enter 'q' on new line to end the input\n",
      "[[ 0.          0.5883484   0.78446454]\n",
      " [ 0.50990194 -0.11766969  0.35300905]]\n",
      "The result is not basis for R(3)\n"
     ]
    }
   ],
   "source": [
    "import logic.utility as utility\n",
    "import logic.custom_gram_schmidt as CGSC\n",
    "\n",
    "print(\"Enter the inner product matrix 3x3\")\n",
    "inner_product_matrix = utility.get_matrix_from_user(3, True)\n",
    "calc = CGSC.CustomGramSchmidt(inner_product_matrix)\n",
    "print(\"Enter vectors from R(3)\")\n",
    "vectors = utility.get_matrix_from_user(3)\n",
    "result_matrix = calc.calc(vectors)\n",
    "print(result_matrix)\n",
    "utility.print_if_matrix_is_basis(result_matrix)\n"
   ]
  }
 ],
 "metadata": {
  "kernelspec": {
   "display_name": "Python 3",
   "language": "python",
   "name": "python3"
  },
  "language_info": {
   "codemirror_mode": {
    "name": "ipython",
    "version": 3
   },
   "file_extension": ".py",
   "mimetype": "text/x-python",
   "name": "python",
   "nbconvert_exporter": "python",
   "pygments_lexer": "ipython3",
   "version": "3.9.2"
  }
 },
 "nbformat": 4,
 "nbformat_minor": 1
}
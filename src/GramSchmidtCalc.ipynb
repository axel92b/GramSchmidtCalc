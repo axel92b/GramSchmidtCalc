{
 "cells": [
  {
   "cell_type": "markdown",
   "metadata": {},
   "source": [
    "# Regular Gram Schmidt Calculator\n"
   ]
  },
  {
   "cell_type": "code",
   "execution_count": null,
   "metadata": {
    "pycharm": {
     "name": "#%%\n"
    },
    "scrolled": true
   },
   "outputs": [
    {
     "name": "stdout",
     "output_type": "stream",
     "text": [
      "Enter the vectors, each value separated by space or comma and each vector separated by enter. Enter 'q' on new line to end the input\n",
      "Enter vector: 0 3 4\n",
      "Entered vectors:\n",
      "[[0.0, 3.0, 4.0]]\n",
      "Enter vector: 1 0 1\n",
      "Entered vectors:\n",
      "[[0.0, 3.0, 4.0], [1.0, 0.0, 1.0]]\n",
      "Enter vector: 1 1 3\n",
      "Entered vectors:\n",
      "[[0.0, 3.0, 4.0], [1.0, 0.0, 1.0], [1.0, 1.0, 3.0]]\n",
      "Enter vector: w\n",
      "Something went wrong with input, re-enter the vector!\n",
      "Entered vectors:\n",
      "[[0.0, 3.0, 4.0], [1.0, 0.0, 1.0], [1.0, 1.0, 3.0]]\n",
      "Enter vector: q\n",
      "[[ 0.          0.6         0.8       ]\n",
      " [ 0.8574929  -0.4115966   0.30869746]\n",
      " [-0.5144959  -0.6859945   0.5144954 ]]\n",
      "The result is basis for R(3)\n"
     ]
    }
   ],
   "source": [
    "from logic.Interface import RegularGramSchmidt\n",
    "RegularGramSchmidt()"
   ]
  },
  {
   "cell_type": "code",
   "execution_count": null,
   "metadata": {},
   "outputs": [],
   "source": []
  }
 ],
 "metadata": {
  "interpreter": {
   "hash": "b18454b6bfe52244e64620611df060bbef3e4c0ee8f444b3ca8e49fc39e6d3fe"
  },
  "kernelspec": {
   "display_name": "Python 3",
   "language": "python",
   "name": "python3"
  },
  "language_info": {
   "codemirror_mode": {
    "name": "ipython",
    "version": 3
   },
   "file_extension": ".py",
   "mimetype": "text/x-python",
   "name": "python",
   "nbconvert_exporter": "python",
   "pygments_lexer": "ipython3",
   "version": "3.9.2"
  }
 },
 "nbformat": 4,
 "nbformat_minor": 1
}
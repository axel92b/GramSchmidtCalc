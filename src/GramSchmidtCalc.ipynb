{
 "cells": [
  {
   "cell_type": "markdown",
   "metadata": {},
   "source": [
    "# Regular Gram Schmidt Calculator\n"
   ]
  },
  {
   "cell_type": "code",
   "execution_count": 1,
   "metadata": {
    "scrolled": true,
    "pycharm": {
     "name": "#%%\n"
    }
   },
   "outputs": [
    {
     "name": "stdout",
     "output_type": "stream",
     "text": [
      "Enter the vectors, each value separated by space and each vector separated by enter. Enter 'q' on new line to end the input\n",
      "Enter vector: q\n"
     ]
    }
   ],
   "source": [
    "from logic.Interface import RegularGramSchmidt\n",
    "RegularGramSchmidt()"
   ]
  }
 ],
 "metadata": {
  "interpreter": {
   "hash": "b18454b6bfe52244e64620611df060bbef3e4c0ee8f444b3ca8e49fc39e6d3fe"
  },
  "kernelspec": {
   "display_name": "Python 3",
   "language": "python",
   "name": "python3"
  },
  "language_info": {
   "codemirror_mode": {
    "name": "ipython",
    "version": 3
   },
   "file_extension": ".py",
   "mimetype": "text/x-python",
   "name": "python",
   "nbconvert_exporter": "python",
   "pygments_lexer": "ipython3",
   "version": "3.9.1"
  }
 },
 "nbformat": 4,
 "nbformat_minor": 1
}